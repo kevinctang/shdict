{
 "cells": [
  {
   "cell_type": "code",
   "execution_count": 7,
   "metadata": {},
   "outputs": [
    {
     "name": "stdout",
     "output_type": "stream",
     "text": [
      "CSV file created successfully!\n"
     ]
    }
   ],
   "source": [
    "import pandas as pd\n",
    "\n",
    "# Define the file path for the uploaded text file\n",
    "file_path = 'data/Mandarin-Shanghainese.txt'\n",
    "\n",
    "# Prepare lists for words and their definitions\n",
    "words = []\n",
    "definitions = []\n",
    "\n",
    "# Function to swap words inside and outside of square brackets\n",
    "def swap_bracket_words(word):\n",
    "    # Look for words with square brackets using regex\n",
    "    match = re.match(r'^(.*)\\[(.*)\\](.*)$', word)\n",
    "    if match:\n",
    "        # Swap words and replace [] with （）\n",
    "        before_bracket = match.group(1).strip()\n",
    "        inside_bracket = match.group(2).strip()\n",
    "        after_bracket = match.group(3).strip()\n",
    "        return f\"{inside_bracket}（{before_bracket}）{after_bracket}\".strip()\n",
    "    return word\n",
    "\n",
    "# Read the data from the text file\n",
    "with open(file_path, 'r', encoding='utf-8') as file:\n",
    "    lines = file.readlines()\n",
    "\n",
    "# Process the lines from the file\n",
    "for line in lines:\n",
    "    # Split each line by tabs\n",
    "    parts = line.split('\\t')\n",
    "    if len(parts) >= 3:  # Ensure there is at least a word and a definition\n",
    "        word = parts[0].strip()  # First tab contains the word\n",
    "        definition = parts[2].strip()  # Second tab contains the definition\n",
    "\n",
    "        # Apply the swap if the word contains square brackets\n",
    "        word = swap_bracket_words(word)\n",
    "\n",
    "        words.append(word)\n",
    "        definitions.append(definition)\n",
    "\n",
    "# Create a DataFrame from the lists\n",
    "df = pd.DataFrame({\n",
    "    'word': words,\n",
    "    'definition': definitions\n",
    "})\n",
    "\n",
    "# Save the DataFrame to a CSV file\n",
    "df.to_csv('sh_dictionary.csv', index=False, encoding='utf-8')\n",
    "\n",
    "print(\"CSV file created successfully!\")"
   ]
  },
  {
   "cell_type": "code",
   "execution_count": 6,
   "metadata": {},
   "outputs": [
    {
     "name": "stdout",
     "output_type": "stream",
     "text": [
      "CSV file created successfully!\n"
     ]
    }
   ],
   "source": [
    "import pandas as pd\n",
    "\n",
    "# Define the file path for the uploaded text file\n",
    "file_path = 'data/Mandarin-Shanghainese.txt'\n",
    "\n",
    "# Prepare lists for words and their definitions\n",
    "words = []\n",
    "definitions = []\n",
    "\n",
    "# Read the data from the text file\n",
    "with open(file_path, 'r', encoding='utf-8') as file:\n",
    "    lines = file.readlines()\n",
    "\n",
    "# Process the lines from the file\n",
    "for line in lines:\n",
    "    # Split each line by tabs\n",
    "    parts = line.split('\\t')\n",
    "    if len(parts) >= 3:  # Ensure there is at least a word and a definition\n",
    "        word = parts[0].strip()  # First tab contains the word\n",
    "        definition = parts[2].strip()  # Second tab contains the definition\n",
    "        words.append(word)\n",
    "        definitions.append(definition)\n",
    "\n",
    "# Create a DataFrame from the lists\n",
    "df = pd.DataFrame({\n",
    "    'word': words,\n",
    "    'definition': definitions\n",
    "})\n",
    "\n",
    "# Save the DataFrame to a CSV file\n",
    "df.to_csv('sh_dictionary.csv', index=False, encoding='utf-8')\n",
    "\n",
    "print(\"CSV file created successfully!\")\n"
   ]
  }
 ],
 "metadata": {
  "kernelspec": {
   "display_name": "Python 3",
   "language": "python",
   "name": "python3"
  },
  "language_info": {
   "codemirror_mode": {
    "name": "ipython",
    "version": 3
   },
   "file_extension": ".py",
   "mimetype": "text/x-python",
   "name": "python",
   "nbconvert_exporter": "python",
   "pygments_lexer": "ipython3",
   "version": "3.8.10"
  }
 },
 "nbformat": 4,
 "nbformat_minor": 2
}
